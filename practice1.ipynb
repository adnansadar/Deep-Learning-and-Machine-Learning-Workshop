{
 "cells": [
  {
   "cell_type": "code",
   "execution_count": 1,
   "metadata": {},
   "outputs": [],
   "source": [
    "import pandas as pd, numpy as np\n",
    "import statsmodels.api as sm, matplotlib.font_manager as fm\n",
    "import matplotlib.pyplot as plt, matplotlib.cm as cm\n",
    "%matplotlib inline"
   ]
  },
  {
   "cell_type": "code",
   "execution_count": 2,
   "metadata": {},
   "outputs": [],
   "source": [
    "# define the fonts to use for plots\n",
    "family = 'Myriad Pro'\n",
    "title_font = fm.FontProperties(family=family, style='normal', size=18, weight='normal', stretch='normal')\n",
    "label_font = fm.FontProperties(family=family, style='normal', size=16, weight='normal', stretch='normal')\n",
    "ticks_font = fm.FontProperties(family=family, style='normal', size=14, weight='normal', stretch='normal')"
   ]
  },
  {
   "cell_type": "code",
   "execution_count": null,
   "metadata": {},
   "outputs": [],
   "source": []
  }
 ],
 "metadata": {
  "kernelspec": {
   "display_name": "Python 3",
   "language": "python",
   "name": "python3"
  },
  "language_info": {
   "codemirror_mode": {
    "name": "ipython",
    "version": 3
   },
   "file_extension": ".py",
   "mimetype": "text/x-python",
   "name": "python",
   "nbconvert_exporter": "python",
   "pygments_lexer": "ipython3",
   "version": "3.7.1"
  }
 },
 "nbformat": 4,
 "nbformat_minor": 2
}
